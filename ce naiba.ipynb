{
 "cells": [
  {
   "cell_type": "code",
   "execution_count": 1,
   "id": "444f3237",
   "metadata": {},
   "outputs": [],
   "source": [
    "#imports \n",
    "from selenium import webdriver\n",
    "from selenium.webdriver.common.keys import Keys\n",
    "from selenium.webdriver.support import expected_conditions as EC\n",
    "from selenium.webdriver.common.by import By\n",
    "from selenium.webdriver.support.wait import WebDriverWait\n",
    "import os\n",
    "import time\n",
    "import wget"
   ]
  },
  {
   "cell_type": "code",
   "execution_count": 2,
   "id": "4b2cada9",
   "metadata": {
    "scrolled": true
   },
   "outputs": [],
   "source": [
    "#specify the path to chromedriver.exe\n",
    "driver = webdriver.Chrome('C:/Users/paula/chromedriver.exe')\n",
    "\n",
    "#open the webpage\n",
    "driver.get(\"https://app.powerbi.com/view?r=eyJrIjoiMTVkYjVjMmEtOWI1Mi00N2Q0LWI1YzUtMzUyMmE3NGVlMTBjIiwidCI6IjRiMWJkNWRiLTY3ODItNDY2YS1hMWM1LTRlOTc1NjQ4ZjhlNSIsImMiOjl9\")\n",
    "# waiting for 5 seconds for the full page to load\n",
    "time.sleep(5)\n",
    "#clicking the first button \n",
    "tour=driver.find_element_by_xpath(\"(//div[@class='visual visual-actionButton allow-deferred-rendering'])[1]\").click()\n",
    "\n",
    "#then the second button and selecting 2020\n",
    "resultCountry=driver.find_element_by_xpath(\"(//div[@class='visual visual-actionButton allow-deferred-rendering'])[7]\").click()\n",
    "\n",
    "#SWITCH TO IFRAME\n",
    "aaframe=WebDriverWait(driver, 10).until(EC.frame_to_be_available_and_switch_to_it(\"visual-sandbox\"))\n",
    "yearSelect=driver.find_element_by_xpath(\"(//span[@class='slicerText'])[1]\").click()\n",
    "#SWITCHING BACK\n",
    "driver.switch_to.default_content()\n",
    "\n",
    "# clicking the dropdown button\n",
    "findCountry=driver.find_element_by_xpath(\"(//div[@class='slicer-dropdown-menu'])[2]\").click()\n",
    "\n"
   ]
  },
  {
   "cell_type": "code",
   "execution_count": 3,
   "id": "d01d9d71",
   "metadata": {},
   "outputs": [],
   "source": [
    "#finding Japan in the dropdown\n",
    "searchbox=driver.find_element_by_xpath(\"(//input[@class='searchInput'])[2]\")\n",
    "searchbox.clear\n",
    "searchbox.send_keys(\"japan\")\n"
   ]
  },
  {
   "cell_type": "code",
   "execution_count": 4,
   "id": "3491071a",
   "metadata": {},
   "outputs": [],
   "source": [
    "#accesing data for japan\n",
    "tick=driver.find_element_by_xpath(\"//div[@class='slicerCheckbox']\").click()"
   ]
  },
  {
   "cell_type": "code",
   "execution_count": 5,
   "id": "db59bfb9",
   "metadata": {},
   "outputs": [],
   "source": [
    "graph=driver.find_element_by_xpath(\"(//div[@class='visual visual-areaChart allow-deferred-rendering'])[1]\")\n"
   ]
  },
  {
   "cell_type": "code",
   "execution_count": 6,
   "id": "1082a648",
   "metadata": {},
   "outputs": [],
   "source": [
    "from selenium.webdriver import ActionChains\n",
    "#Right click on the graph so I can obtain the table\n",
    "actionChains = ActionChains(driver)\n",
    "actionChains.context_click(graph).perform()"
   ]
  },
  {
   "cell_type": "code",
   "execution_count": 7,
   "id": "f855a95b",
   "metadata": {},
   "outputs": [],
   "source": [
    "showTable=driver.find_element_by_xpath(\"(//div[@class='label'])[1]\").click()"
   ]
  },
  {
   "cell_type": "code",
   "execution_count": 8,
   "id": "7614cd24",
   "metadata": {},
   "outputs": [],
   "source": [
    "#Got the table, now I will work with BeautifulSoup as well\n",
    "from bs4 import BeautifulSoup"
   ]
  },
  {
   "cell_type": "code",
   "execution_count": 9,
   "id": "0ee561cf",
   "metadata": {},
   "outputs": [],
   "source": [
    "html = driver.page_source\n",
    "soup = BeautifulSoup(driver.page_source, 'html.parser')"
   ]
  },
  {
   "cell_type": "code",
   "execution_count": 10,
   "id": "1aaba274",
   "metadata": {},
   "outputs": [
    {
     "name": "stdout",
     "output_type": "stream",
     "text": [
      "Selected year Previous year 2019 arrivals \n"
     ]
    }
   ],
   "source": [
    "table=soup.find_all('div',attrs={\"class\":\"visual visual-pivotTable allow-deferred-rendering\"})\n",
    "headings= soup.find('div', attrs={\"class\":\"columnHeaders\"})\n",
    "print(headings.text)"
   ]
  },
  {
   "cell_type": "code",
   "execution_count": 11,
   "id": "9256dd99",
   "metadata": {},
   "outputs": [],
   "source": [
    "headingss= (soup.find('div', attrs={\"class\":\"columnHeaders\"})).find_next('div', attrs={\"class\": None})"
   ]
  },
  {
   "cell_type": "code",
   "execution_count": 12,
   "id": "3e4f71fa",
   "metadata": {},
   "outputs": [
    {
     "name": "stdout",
     "output_type": "stream",
     "text": [
      "['Selected year\\xa0', 'Previous year\\xa0', '2019 arrivals\\xa0']\n"
     ]
    }
   ],
   "source": [
    "headings_list=[i.text for i in headingss]\n",
    "print(headings_list)"
   ]
  },
  {
   "cell_type": "code",
   "execution_count": 13,
   "id": "b8e85489",
   "metadata": {},
   "outputs": [
    {
     "name": "stdout",
     "output_type": "stream",
     "text": [
      "shortmonth \n"
     ]
    }
   ],
   "source": [
    "allHeads=headings_list\n",
    "head1=soup.find('div',attrs={\"title\":\"shortmonth\"})\n",
    "print(head1.text)"
   ]
  },
  {
   "cell_type": "code",
   "execution_count": 14,
   "id": "39394298",
   "metadata": {},
   "outputs": [
    {
     "name": "stdout",
     "output_type": "stream",
     "text": [
      "['Selected year\\xa0', 'Previous year\\xa0', '2019 arrivals\\xa0', 'shortmonth\\xa0']\n"
     ]
    }
   ],
   "source": [
    "allHeads.append(head1.text)\n",
    "print(allHeads)"
   ]
  },
  {
   "cell_type": "code",
   "execution_count": 15,
   "id": "9fd3c0f0",
   "metadata": {},
   "outputs": [
    {
     "name": "stdout",
     "output_type": "stream",
     "text": [
      "['Selected year\\xa0', 'Previous year\\xa0', 'shortmonth\\xa0']\n"
     ]
    }
   ],
   "source": [
    "del (allHeads[2])\n",
    "print(allHeads)"
   ]
  },
  {
   "cell_type": "code",
   "execution_count": 16,
   "id": "0a1ee20e",
   "metadata": {},
   "outputs": [
    {
     "name": "stdout",
     "output_type": "stream",
     "text": [
      "['Jan', 'Feb', 'Mar', 'Apr', 'May', 'Jun', 'Jul', 'Aug', 'Sep', 'Oct', 'Nov', 'Dec']\n"
     ]
    }
   ],
   "source": [
    "#Getting months\n",
    "months_value= (soup.find('div', attrs={\"class\":\"rowHeaders\"})).find_next('div', attrs={\"class\": None})\n",
    "shortmonth_values=[i.text for i in months_value]\n",
    "print(shortmonth_values)"
   ]
  },
  {
   "cell_type": "code",
   "execution_count": 17,
   "id": "89f2bca6",
   "metadata": {},
   "outputs": [
    {
     "name": "stdout",
     "output_type": "stream",
     "text": [
      "['2661022', '1085147', '193658', '2917', '1663', '2565', '3782', '8658', '13684', '27386', '56673', '58673']\n"
     ]
    }
   ],
   "source": [
    "#Getting numbers\n",
    "\n",
    "a2020=driver.find_elements_by_xpath(\"(//div[@class='pivotTableCellWrap cell-interactive tablixAlignRight '])[position()<13]\")\n",
    "list2020= []\n",
    "for i in a2020:\n",
    "    list2020.append(str(i.text))\n",
    "print(list2020)\n",
    "    "
   ]
  },
  {
   "cell_type": "code",
   "execution_count": 18,
   "id": "33666dc8",
   "metadata": {},
   "outputs": [
    {
     "name": "stdout",
     "output_type": "stream",
     "text": [
      "['2689339', '2604322', '2760136', '2926685', '2773091', '2880041', '2991189', '2520134', '2272883', '2496568', '2441274', '2526387']\n"
     ]
    }
   ],
   "source": [
    "a2019=driver.find_elements_by_xpath(\"(//div[@class='pivotTableCellWrap cell-interactive tablixAlignRight '])[position()>12 and position()<=24]\")\n",
    "list2019= []\n",
    "for i in a2019:\n",
    "    list2019.append(str(i.text))\n",
    "print(list2019)"
   ]
  },
  {
   "cell_type": "code",
   "execution_count": 41,
   "id": "97fce54a",
   "metadata": {},
   "outputs": [
    {
     "name": "stdout",
     "output_type": "stream",
     "text": [
      "['2689339', '2604322', '2760136', '2926685', '2773091', '2880041', '2991189', '2520134', '2272883', '2496568', '2441274', '2526387', '2661022', '1085147', '193658', '2917', '1663', '2565', '3782', '8658', '13684', '27386', '56673', '58673']\n"
     ]
    }
   ],
   "source": [
    "value= (list2019 + list2020)\n",
    "print(value)"
   ]
  },
  {
   "cell_type": "code",
   "execution_count": 42,
   "id": "0fb02466",
   "metadata": {},
   "outputs": [
    {
     "name": "stdout",
     "output_type": "stream",
     "text": [
      "['01-01', '01-02', '01-03', '01-04', '01-05', '01-06', '01-07', '01-08', '01-09', '01-10', '01-11', '01-12', '01-01', '01-02', '01-03', '01-04', '01-05', '01-06', '01-07', '01-08', '01-09', '01-10', '01-11', '01-12']\n"
     ]
    }
   ],
   "source": [
    "from datetime import datetime\n",
    "date1=['01-{0:02d}'.format(i) for i in range(1, 13)]\n",
    "date2=['01-{0:02d}'.format(i) for i in range(1, 13)]\n",
    "date=(date1 + date2)\n",
    "print(date)"
   ]
  },
  {
   "cell_type": "code",
   "execution_count": 47,
   "id": "cdc7d7b1",
   "metadata": {},
   "outputs": [
    {
     "name": "stdout",
     "output_type": "stream",
     "text": [
      "[2019, 2019, 2019, 2019, 2019, 2019, 2019, 2019, 2019, 2019, 2019, 2019, 2020, 2020, 2020, 2020, 2020, 2020, 2020, 2020, 2020, 2020, 2020, 2020]\n"
     ]
    }
   ],
   "source": [
    "year2019=[2019]*12\n",
    "year2020=[2020]*12\n",
    "year=(year2019 + year2020)\n",
    "print(year)"
   ]
  },
  {
   "cell_type": "code",
   "execution_count": 49,
   "id": "949898ee",
   "metadata": {},
   "outputs": [
    {
     "data": {
      "text/html": [
       "<div>\n",
       "<style scoped>\n",
       "    .dataframe tbody tr th:only-of-type {\n",
       "        vertical-align: middle;\n",
       "    }\n",
       "\n",
       "    .dataframe tbody tr th {\n",
       "        vertical-align: top;\n",
       "    }\n",
       "\n",
       "    .dataframe thead th {\n",
       "        text-align: right;\n",
       "    }\n",
       "</style>\n",
       "<table border=\"1\" class=\"dataframe\">\n",
       "  <thead>\n",
       "    <tr style=\"text-align: right;\">\n",
       "      <th></th>\n",
       "      <th>year</th>\n",
       "      <th>date</th>\n",
       "      <th>value</th>\n",
       "    </tr>\n",
       "  </thead>\n",
       "  <tbody>\n",
       "    <tr>\n",
       "      <th>0</th>\n",
       "      <td>2019</td>\n",
       "      <td>01-01</td>\n",
       "      <td>2689339</td>\n",
       "    </tr>\n",
       "    <tr>\n",
       "      <th>1</th>\n",
       "      <td>2019</td>\n",
       "      <td>01-02</td>\n",
       "      <td>2604322</td>\n",
       "    </tr>\n",
       "    <tr>\n",
       "      <th>2</th>\n",
       "      <td>2019</td>\n",
       "      <td>01-03</td>\n",
       "      <td>2760136</td>\n",
       "    </tr>\n",
       "    <tr>\n",
       "      <th>3</th>\n",
       "      <td>2019</td>\n",
       "      <td>01-04</td>\n",
       "      <td>2926685</td>\n",
       "    </tr>\n",
       "    <tr>\n",
       "      <th>4</th>\n",
       "      <td>2019</td>\n",
       "      <td>01-05</td>\n",
       "      <td>2773091</td>\n",
       "    </tr>\n",
       "    <tr>\n",
       "      <th>5</th>\n",
       "      <td>2019</td>\n",
       "      <td>01-06</td>\n",
       "      <td>2880041</td>\n",
       "    </tr>\n",
       "    <tr>\n",
       "      <th>6</th>\n",
       "      <td>2019</td>\n",
       "      <td>01-07</td>\n",
       "      <td>2991189</td>\n",
       "    </tr>\n",
       "    <tr>\n",
       "      <th>7</th>\n",
       "      <td>2019</td>\n",
       "      <td>01-08</td>\n",
       "      <td>2520134</td>\n",
       "    </tr>\n",
       "    <tr>\n",
       "      <th>8</th>\n",
       "      <td>2019</td>\n",
       "      <td>01-09</td>\n",
       "      <td>2272883</td>\n",
       "    </tr>\n",
       "    <tr>\n",
       "      <th>9</th>\n",
       "      <td>2019</td>\n",
       "      <td>01-10</td>\n",
       "      <td>2496568</td>\n",
       "    </tr>\n",
       "    <tr>\n",
       "      <th>10</th>\n",
       "      <td>2019</td>\n",
       "      <td>01-11</td>\n",
       "      <td>2441274</td>\n",
       "    </tr>\n",
       "    <tr>\n",
       "      <th>11</th>\n",
       "      <td>2019</td>\n",
       "      <td>01-12</td>\n",
       "      <td>2526387</td>\n",
       "    </tr>\n",
       "    <tr>\n",
       "      <th>12</th>\n",
       "      <td>2020</td>\n",
       "      <td>01-01</td>\n",
       "      <td>2661022</td>\n",
       "    </tr>\n",
       "    <tr>\n",
       "      <th>13</th>\n",
       "      <td>2020</td>\n",
       "      <td>01-02</td>\n",
       "      <td>1085147</td>\n",
       "    </tr>\n",
       "    <tr>\n",
       "      <th>14</th>\n",
       "      <td>2020</td>\n",
       "      <td>01-03</td>\n",
       "      <td>193658</td>\n",
       "    </tr>\n",
       "    <tr>\n",
       "      <th>15</th>\n",
       "      <td>2020</td>\n",
       "      <td>01-04</td>\n",
       "      <td>2917</td>\n",
       "    </tr>\n",
       "    <tr>\n",
       "      <th>16</th>\n",
       "      <td>2020</td>\n",
       "      <td>01-05</td>\n",
       "      <td>1663</td>\n",
       "    </tr>\n",
       "    <tr>\n",
       "      <th>17</th>\n",
       "      <td>2020</td>\n",
       "      <td>01-06</td>\n",
       "      <td>2565</td>\n",
       "    </tr>\n",
       "    <tr>\n",
       "      <th>18</th>\n",
       "      <td>2020</td>\n",
       "      <td>01-07</td>\n",
       "      <td>3782</td>\n",
       "    </tr>\n",
       "    <tr>\n",
       "      <th>19</th>\n",
       "      <td>2020</td>\n",
       "      <td>01-08</td>\n",
       "      <td>8658</td>\n",
       "    </tr>\n",
       "    <tr>\n",
       "      <th>20</th>\n",
       "      <td>2020</td>\n",
       "      <td>01-09</td>\n",
       "      <td>13684</td>\n",
       "    </tr>\n",
       "    <tr>\n",
       "      <th>21</th>\n",
       "      <td>2020</td>\n",
       "      <td>01-10</td>\n",
       "      <td>27386</td>\n",
       "    </tr>\n",
       "    <tr>\n",
       "      <th>22</th>\n",
       "      <td>2020</td>\n",
       "      <td>01-11</td>\n",
       "      <td>56673</td>\n",
       "    </tr>\n",
       "    <tr>\n",
       "      <th>23</th>\n",
       "      <td>2020</td>\n",
       "      <td>01-12</td>\n",
       "      <td>58673</td>\n",
       "    </tr>\n",
       "  </tbody>\n",
       "</table>\n",
       "</div>"
      ],
      "text/plain": [
       "    year   date    value\n",
       "0   2019  01-01  2689339\n",
       "1   2019  01-02  2604322\n",
       "2   2019  01-03  2760136\n",
       "3   2019  01-04  2926685\n",
       "4   2019  01-05  2773091\n",
       "5   2019  01-06  2880041\n",
       "6   2019  01-07  2991189\n",
       "7   2019  01-08  2520134\n",
       "8   2019  01-09  2272883\n",
       "9   2019  01-10  2496568\n",
       "10  2019  01-11  2441274\n",
       "11  2019  01-12  2526387\n",
       "12  2020  01-01  2661022\n",
       "13  2020  01-02  1085147\n",
       "14  2020  01-03   193658\n",
       "15  2020  01-04     2917\n",
       "16  2020  01-05     1663\n",
       "17  2020  01-06     2565\n",
       "18  2020  01-07     3782\n",
       "19  2020  01-08     8658\n",
       "20  2020  01-09    13684\n",
       "21  2020  01-10    27386\n",
       "22  2020  01-11    56673\n",
       "23  2020  01-12    58673"
      ]
     },
     "metadata": {},
     "output_type": "display_data"
    }
   ],
   "source": [
    "#Woking with pandas to get the table nicely formatted\n",
    "import pandas as pd\n",
    "dff=pd.DataFrame([year,date,value]).T\n",
    "heads=['year','date','value']\n",
    "dff.columns=heads\n",
    "display(dff)"
   ]
  },
  {
   "cell_type": "code",
   "execution_count": 52,
   "id": "7e562880",
   "metadata": {},
   "outputs": [],
   "source": [
    "#Finally saving everything\n",
    "dff.to_csv('C:/Users/paula/japan_inbound_2020.csv', encoding='utf-8')"
   ]
  }
 ],
 "metadata": {
  "kernelspec": {
   "display_name": "Python 3 (ipykernel)",
   "language": "python",
   "name": "python3"
  },
  "language_info": {
   "codemirror_mode": {
    "name": "ipython",
    "version": 3
   },
   "file_extension": ".py",
   "mimetype": "text/x-python",
   "name": "python",
   "nbconvert_exporter": "python",
   "pygments_lexer": "ipython3",
   "version": "3.9.7"
  }
 },
 "nbformat": 4,
 "nbformat_minor": 5
}
