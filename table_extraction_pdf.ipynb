{
 "cells": [
  {
   "cell_type": "code",
   "execution_count": 1,
   "id": "765d79b7",
   "metadata": {},
   "outputs": [],
   "source": [
    "import pandas as pd\n",
    "df = pd.read_csv('C:/Users/paula/csv_to_edit.csv')"
   ]
  },
  {
   "cell_type": "code",
   "execution_count": 2,
   "id": "6a5009a3",
   "metadata": {},
   "outputs": [
    {
     "data": {
      "text/html": [
       "<div>\n",
       "<style scoped>\n",
       "    .dataframe tbody tr th:only-of-type {\n",
       "        vertical-align: middle;\n",
       "    }\n",
       "\n",
       "    .dataframe tbody tr th {\n",
       "        vertical-align: top;\n",
       "    }\n",
       "\n",
       "    .dataframe thead th {\n",
       "        text-align: right;\n",
       "    }\n",
       "</style>\n",
       "<table border=\"1\" class=\"dataframe\">\n",
       "  <thead>\n",
       "    <tr style=\"text-align: right;\">\n",
       "      <th></th>\n",
       "      <th>Unnamed: 0</th>\n",
       "      <th>Visitor Arrivals\\r20192021</th>\n",
       "      <th>Growth Rate(%)\\r20192021</th>\n",
       "    </tr>\n",
       "  </thead>\n",
       "  <tbody>\n",
       "    <tr>\n",
       "      <th>0</th>\n",
       "      <td>Jan.</td>\n",
       "      <td>2,689,33946,522 *</td>\n",
       "      <td>-98.3 *</td>\n",
       "    </tr>\n",
       "    <tr>\n",
       "      <th>1</th>\n",
       "      <td>Feb.</td>\n",
       "      <td>2,604,3227,355 *</td>\n",
       "      <td>-99.7 *</td>\n",
       "    </tr>\n",
       "    <tr>\n",
       "      <th>2</th>\n",
       "      <td>Mar.</td>\n",
       "      <td>2,760,13612,276 *</td>\n",
       "      <td>-99.6 *</td>\n",
       "    </tr>\n",
       "    <tr>\n",
       "      <th>3</th>\n",
       "      <td>Apr.</td>\n",
       "      <td>2,926,68510,853 *</td>\n",
       "      <td>-99.6 *</td>\n",
       "    </tr>\n",
       "    <tr>\n",
       "      <th>4</th>\n",
       "      <td>May</td>\n",
       "      <td>2,773,09110,035 *</td>\n",
       "      <td>-99.6 *</td>\n",
       "    </tr>\n",
       "    <tr>\n",
       "      <th>5</th>\n",
       "      <td>Jun.</td>\n",
       "      <td>2,880,0419,251 *</td>\n",
       "      <td>-99.7 *</td>\n",
       "    </tr>\n",
       "    <tr>\n",
       "      <th>6</th>\n",
       "      <td>Jul.</td>\n",
       "      <td>2,991,18951,055 *</td>\n",
       "      <td>-98.3 *</td>\n",
       "    </tr>\n",
       "    <tr>\n",
       "      <th>7</th>\n",
       "      <td>Aug.</td>\n",
       "      <td>2,520,13425,916 *</td>\n",
       "      <td>-99.0 *</td>\n",
       "    </tr>\n",
       "    <tr>\n",
       "      <th>8</th>\n",
       "      <td>Sep.</td>\n",
       "      <td>2,272,88317,720 *</td>\n",
       "      <td>-99.2 *</td>\n",
       "    </tr>\n",
       "    <tr>\n",
       "      <th>9</th>\n",
       "      <td>Oct.</td>\n",
       "      <td>2,496,56822,100 **</td>\n",
       "      <td>-99.1 **</td>\n",
       "    </tr>\n",
       "    <tr>\n",
       "      <th>10</th>\n",
       "      <td>Nov.</td>\n",
       "      <td>2,441,27420,700 **</td>\n",
       "      <td>-99.2 **</td>\n",
       "    </tr>\n",
       "    <tr>\n",
       "      <th>11</th>\n",
       "      <td>Dec.</td>\n",
       "      <td>2,526,387</td>\n",
       "      <td>NaN</td>\n",
       "    </tr>\n",
       "  </tbody>\n",
       "</table>\n",
       "</div>"
      ],
      "text/plain": [
       "   Unnamed: 0 Visitor Arrivals\\r20192021 Growth Rate(%)\\r20192021\n",
       "0        Jan.          2,689,33946,522 *                  -98.3 *\n",
       "1        Feb.           2,604,3227,355 *                  -99.7 *\n",
       "2        Mar.          2,760,13612,276 *                  -99.6 *\n",
       "3        Apr.          2,926,68510,853 *                  -99.6 *\n",
       "4         May          2,773,09110,035 *                  -99.6 *\n",
       "5        Jun.           2,880,0419,251 *                  -99.7 *\n",
       "6        Jul.          2,991,18951,055 *                  -98.3 *\n",
       "7        Aug.          2,520,13425,916 *                  -99.0 *\n",
       "8        Sep.          2,272,88317,720 *                  -99.2 *\n",
       "9        Oct.         2,496,56822,100 **                 -99.1 **\n",
       "10       Nov.         2,441,27420,700 **                 -99.2 **\n",
       "11       Dec.                  2,526,387                      NaN"
      ]
     },
     "metadata": {},
     "output_type": "display_data"
    }
   ],
   "source": [
    "display(df)"
   ]
  },
  {
   "cell_type": "code",
   "execution_count": 3,
   "id": "f4aeffde",
   "metadata": {},
   "outputs": [
    {
     "data": {
      "text/plain": [
       "0     46,522\n",
       "1     7,355 \n",
       "2     12,276\n",
       "3     10,853\n",
       "4     10,035\n",
       "5     9,251 \n",
       "6     51,055\n",
       "7     25,916\n",
       "8     17,720\n",
       "9     22,100\n",
       "10    20,700\n",
       "11          \n",
       "Name: Arrivals 2021, dtype: object"
      ]
     },
     "execution_count": 3,
     "metadata": {},
     "output_type": "execute_result"
    }
   ],
   "source": [
    "#Separating the yearly values into 2 different columns\n",
    "df['column'] = df['Visitor Arrivals\\r20192021'].astype(str)\n",
    "df['Arrivals 2019'] = df['column'].str[0:9]\n",
    "df['Arrivals 2021'] = df['column'].str[9:15]\n",
    "df['Arrivals 2021']"
   ]
  },
  {
   "cell_type": "code",
   "execution_count": 4,
   "id": "2384ee7e",
   "metadata": {},
   "outputs": [
    {
     "name": "stdout",
     "output_type": "stream",
     "text": [
      "['01-01', '02-01', '03-01', '04-01', '05-01', '06-01', '07-01', '08-01', '09-01', '10-01', '11-01', '12-01']\n"
     ]
    }
   ],
   "source": [
    "#Creating a column for month dates\n",
    "from datetime import datetime\n",
    "date=['{0:02d}-01'.format(i) for i in range(1, 13)]\n",
    "print(date)"
   ]
  },
  {
   "cell_type": "code",
   "execution_count": 5,
   "id": "ea1f33fd",
   "metadata": {},
   "outputs": [
    {
     "data": {
      "text/plain": [
       "0     -98.3\n",
       "1     -99.7\n",
       "2     -99.6\n",
       "3     -99.6\n",
       "4     -99.6\n",
       "5     -99.7\n",
       "6     -98.3\n",
       "7     -99.0\n",
       "8     -99.2\n",
       "9     -99.1\n",
       "10    -99.2\n",
       "11      nan\n",
       "Name: Growth Rate, dtype: object"
      ]
     },
     "metadata": {},
     "output_type": "display_data"
    }
   ],
   "source": [
    "df['column1'] = df['Growth Rate(%)\\r20192021'].astype(str)\n",
    "df['Growth Rate'] =  df['column1'].str[0:5]\n",
    "display(df['Growth Rate'])"
   ]
  },
  {
   "cell_type": "code",
   "execution_count": 6,
   "id": "fbb26e0c",
   "metadata": {},
   "outputs": [
    {
     "name": "stdout",
     "output_type": "stream",
     "text": [
      "0     01-01\n",
      "1     02-01\n",
      "2     03-01\n",
      "3     04-01\n",
      "4     05-01\n",
      "5     06-01\n",
      "6     07-01\n",
      "7     08-01\n",
      "8     09-01\n",
      "9     10-01\n",
      "10    11-01\n",
      "11    12-01\n",
      "Name: date, dtype: object\n"
     ]
    }
   ],
   "source": [
    "df['date'] = pd.Series(date)\n",
    "print (df['date'])"
   ]
  },
  {
   "cell_type": "code",
   "execution_count": 7,
   "id": "cc6b8026",
   "metadata": {},
   "outputs": [
    {
     "data": {
      "text/html": [
       "<div>\n",
       "<style scoped>\n",
       "    .dataframe tbody tr th:only-of-type {\n",
       "        vertical-align: middle;\n",
       "    }\n",
       "\n",
       "    .dataframe tbody tr th {\n",
       "        vertical-align: top;\n",
       "    }\n",
       "\n",
       "    .dataframe thead th {\n",
       "        text-align: right;\n",
       "    }\n",
       "</style>\n",
       "<table border=\"1\" class=\"dataframe\">\n",
       "  <thead>\n",
       "    <tr style=\"text-align: right;\">\n",
       "      <th></th>\n",
       "      <th>date</th>\n",
       "      <th>Arrivals 2019</th>\n",
       "      <th>Arrivals 2021</th>\n",
       "      <th>Growth Rate</th>\n",
       "    </tr>\n",
       "  </thead>\n",
       "  <tbody>\n",
       "    <tr>\n",
       "      <th>0</th>\n",
       "      <td>01-01</td>\n",
       "      <td>2,689,339</td>\n",
       "      <td>46,522</td>\n",
       "      <td>-98.3</td>\n",
       "    </tr>\n",
       "    <tr>\n",
       "      <th>1</th>\n",
       "      <td>02-01</td>\n",
       "      <td>2,604,322</td>\n",
       "      <td>7,355</td>\n",
       "      <td>-99.7</td>\n",
       "    </tr>\n",
       "    <tr>\n",
       "      <th>2</th>\n",
       "      <td>03-01</td>\n",
       "      <td>2,760,136</td>\n",
       "      <td>12,276</td>\n",
       "      <td>-99.6</td>\n",
       "    </tr>\n",
       "    <tr>\n",
       "      <th>3</th>\n",
       "      <td>04-01</td>\n",
       "      <td>2,926,685</td>\n",
       "      <td>10,853</td>\n",
       "      <td>-99.6</td>\n",
       "    </tr>\n",
       "    <tr>\n",
       "      <th>4</th>\n",
       "      <td>05-01</td>\n",
       "      <td>2,773,091</td>\n",
       "      <td>10,035</td>\n",
       "      <td>-99.6</td>\n",
       "    </tr>\n",
       "    <tr>\n",
       "      <th>5</th>\n",
       "      <td>06-01</td>\n",
       "      <td>2,880,041</td>\n",
       "      <td>9,251</td>\n",
       "      <td>-99.7</td>\n",
       "    </tr>\n",
       "    <tr>\n",
       "      <th>6</th>\n",
       "      <td>07-01</td>\n",
       "      <td>2,991,189</td>\n",
       "      <td>51,055</td>\n",
       "      <td>-98.3</td>\n",
       "    </tr>\n",
       "    <tr>\n",
       "      <th>7</th>\n",
       "      <td>08-01</td>\n",
       "      <td>2,520,134</td>\n",
       "      <td>25,916</td>\n",
       "      <td>-99.0</td>\n",
       "    </tr>\n",
       "    <tr>\n",
       "      <th>8</th>\n",
       "      <td>09-01</td>\n",
       "      <td>2,272,883</td>\n",
       "      <td>17,720</td>\n",
       "      <td>-99.2</td>\n",
       "    </tr>\n",
       "    <tr>\n",
       "      <th>9</th>\n",
       "      <td>10-01</td>\n",
       "      <td>2,496,568</td>\n",
       "      <td>22,100</td>\n",
       "      <td>-99.1</td>\n",
       "    </tr>\n",
       "    <tr>\n",
       "      <th>10</th>\n",
       "      <td>11-01</td>\n",
       "      <td>2,441,274</td>\n",
       "      <td>20,700</td>\n",
       "      <td>-99.2</td>\n",
       "    </tr>\n",
       "    <tr>\n",
       "      <th>11</th>\n",
       "      <td>12-01</td>\n",
       "      <td>2,526,387</td>\n",
       "      <td></td>\n",
       "      <td>nan</td>\n",
       "    </tr>\n",
       "  </tbody>\n",
       "</table>\n",
       "</div>"
      ],
      "text/plain": [
       "     date Arrivals 2019 Arrivals 2021 Growth Rate\n",
       "0   01-01     2,689,339        46,522       -98.3\n",
       "1   02-01     2,604,322        7,355        -99.7\n",
       "2   03-01     2,760,136        12,276       -99.6\n",
       "3   04-01     2,926,685        10,853       -99.6\n",
       "4   05-01     2,773,091        10,035       -99.6\n",
       "5   06-01     2,880,041        9,251        -99.7\n",
       "6   07-01     2,991,189        51,055       -98.3\n",
       "7   08-01     2,520,134        25,916       -99.0\n",
       "8   09-01     2,272,883        17,720       -99.2\n",
       "9   10-01     2,496,568        22,100       -99.1\n",
       "10  11-01     2,441,274        20,700       -99.2\n",
       "11  12-01     2,526,387                       nan"
      ]
     },
     "metadata": {},
     "output_type": "display_data"
    }
   ],
   "source": [
    "result=pd.concat([df['date'], df['Arrivals 2019'],df['Arrivals 2021'],df['Growth Rate']], axis=1, join=\"inner\")\n",
    "display(result)"
   ]
  },
  {
   "cell_type": "code",
   "execution_count": 14,
   "id": "4fb71346",
   "metadata": {},
   "outputs": [
    {
     "data": {
      "text/plain": [
       "0     2,689,339\n",
       "1     2,604,322\n",
       "2     2,760,136\n",
       "3     2,926,685\n",
       "4     2,773,091\n",
       "5     2,880,041\n",
       "6     2,991,189\n",
       "7     2,520,134\n",
       "8     2,272,883\n",
       "9     2,496,568\n",
       "10    2,441,274\n",
       "11    2,526,387\n",
       "12       46,522\n",
       "13       7,355 \n",
       "14       12,276\n",
       "15       10,853\n",
       "16       10,035\n",
       "17       9,251 \n",
       "18       51,055\n",
       "19       25,916\n",
       "20       17,720\n",
       "21       22,100\n",
       "22       20,700\n",
       "23             \n",
       "dtype: object"
      ]
     },
     "metadata": {},
     "output_type": "display_data"
    }
   ],
   "source": [
    "df_1=result['Arrivals 2019']\n",
    "df_2=result['Arrivals 2021']\n",
    "df_aa=df_1.append(df_2, ignore_index=True)\n",
    "display(df_aa)\n"
   ]
  },
  {
   "cell_type": "code",
   "execution_count": 22,
   "id": "b39a2e90",
   "metadata": {},
   "outputs": [
    {
     "name": "stdout",
     "output_type": "stream",
     "text": [
      "<class 'pandas.core.series.Series'>\n"
     ]
    }
   ],
   "source": [
    "print(type(df_aa))"
   ]
  },
  {
   "cell_type": "code",
   "execution_count": 24,
   "id": "5b799269",
   "metadata": {},
   "outputs": [
    {
     "name": "stdout",
     "output_type": "stream",
     "text": [
      "['2,689,339', '2,604,322', '2,760,136', '2,926,685', '2,773,091', '2,880,041', '2,991,189', '2,520,134', '2,272,883', '2,496,568', '2,441,274', '2,526,387', '46,522', '7,355 ', '12,276', '10,853', '10,035', '9,251 ', '51,055', '25,916', '17,720', '22,100', '20,700', '']\n"
     ]
    }
   ],
   "source": [
    "value=df_aa.tolist()\n",
    "print(value)"
   ]
  },
  {
   "cell_type": "code",
   "execution_count": 15,
   "id": "47dc2c32",
   "metadata": {},
   "outputs": [
    {
     "name": "stdout",
     "output_type": "stream",
     "text": [
      "['01-01', '02-01', '03-01', '04-01', '05-01', '06-01', '07-01', '08-01', '09-01', '10-01', '11-01', '12-01', '01-01', '02-01', '03-01', '04-01', '05-01', '06-01', '07-01', '08-01', '09-01', '10-01', '11-01', '12-01']\n"
     ]
    }
   ],
   "source": [
    "from datetime import datetime\n",
    "date1=['{0:02d}-01'.format(i) for i in range(1, 13)]\n",
    "date2=['{0:02d}-01'.format(i) for i in range(1, 13)]\n",
    "date=(date1 + date2)\n",
    "print(date)"
   ]
  },
  {
   "cell_type": "code",
   "execution_count": 17,
   "id": "cb60f4bb",
   "metadata": {},
   "outputs": [
    {
     "name": "stdout",
     "output_type": "stream",
     "text": [
      "[2019, 2019, 2019, 2019, 2019, 2019, 2019, 2019, 2019, 2019, 2019, 2019, 2021, 2021, 2021, 2021, 2021, 2021, 2021, 2021, 2021, 2021, 2021, 2021]\n"
     ]
    }
   ],
   "source": [
    "year2019=[2019]*12\n",
    "year2021=[2021]*12\n",
    "year=(year2019 + year2021)\n",
    "print(year)"
   ]
  },
  {
   "cell_type": "code",
   "execution_count": 25,
   "id": "c1613753",
   "metadata": {},
   "outputs": [
    {
     "data": {
      "text/html": [
       "<div>\n",
       "<style scoped>\n",
       "    .dataframe tbody tr th:only-of-type {\n",
       "        vertical-align: middle;\n",
       "    }\n",
       "\n",
       "    .dataframe tbody tr th {\n",
       "        vertical-align: top;\n",
       "    }\n",
       "\n",
       "    .dataframe thead th {\n",
       "        text-align: right;\n",
       "    }\n",
       "</style>\n",
       "<table border=\"1\" class=\"dataframe\">\n",
       "  <thead>\n",
       "    <tr style=\"text-align: right;\">\n",
       "      <th></th>\n",
       "      <th>year</th>\n",
       "      <th>value</th>\n",
       "      <th>date</th>\n",
       "    </tr>\n",
       "  </thead>\n",
       "  <tbody>\n",
       "    <tr>\n",
       "      <th>0</th>\n",
       "      <td>2019</td>\n",
       "      <td>2,689,339</td>\n",
       "      <td>01-01</td>\n",
       "    </tr>\n",
       "    <tr>\n",
       "      <th>1</th>\n",
       "      <td>2019</td>\n",
       "      <td>2,604,322</td>\n",
       "      <td>02-01</td>\n",
       "    </tr>\n",
       "    <tr>\n",
       "      <th>2</th>\n",
       "      <td>2019</td>\n",
       "      <td>2,760,136</td>\n",
       "      <td>03-01</td>\n",
       "    </tr>\n",
       "    <tr>\n",
       "      <th>3</th>\n",
       "      <td>2019</td>\n",
       "      <td>2,926,685</td>\n",
       "      <td>04-01</td>\n",
       "    </tr>\n",
       "    <tr>\n",
       "      <th>4</th>\n",
       "      <td>2019</td>\n",
       "      <td>2,773,091</td>\n",
       "      <td>05-01</td>\n",
       "    </tr>\n",
       "    <tr>\n",
       "      <th>5</th>\n",
       "      <td>2019</td>\n",
       "      <td>2,880,041</td>\n",
       "      <td>06-01</td>\n",
       "    </tr>\n",
       "    <tr>\n",
       "      <th>6</th>\n",
       "      <td>2019</td>\n",
       "      <td>2,991,189</td>\n",
       "      <td>07-01</td>\n",
       "    </tr>\n",
       "    <tr>\n",
       "      <th>7</th>\n",
       "      <td>2019</td>\n",
       "      <td>2,520,134</td>\n",
       "      <td>08-01</td>\n",
       "    </tr>\n",
       "    <tr>\n",
       "      <th>8</th>\n",
       "      <td>2019</td>\n",
       "      <td>2,272,883</td>\n",
       "      <td>09-01</td>\n",
       "    </tr>\n",
       "    <tr>\n",
       "      <th>9</th>\n",
       "      <td>2019</td>\n",
       "      <td>2,496,568</td>\n",
       "      <td>10-01</td>\n",
       "    </tr>\n",
       "    <tr>\n",
       "      <th>10</th>\n",
       "      <td>2019</td>\n",
       "      <td>2,441,274</td>\n",
       "      <td>11-01</td>\n",
       "    </tr>\n",
       "    <tr>\n",
       "      <th>11</th>\n",
       "      <td>2019</td>\n",
       "      <td>2,526,387</td>\n",
       "      <td>12-01</td>\n",
       "    </tr>\n",
       "    <tr>\n",
       "      <th>12</th>\n",
       "      <td>2021</td>\n",
       "      <td>46,522</td>\n",
       "      <td>01-01</td>\n",
       "    </tr>\n",
       "    <tr>\n",
       "      <th>13</th>\n",
       "      <td>2021</td>\n",
       "      <td>7,355</td>\n",
       "      <td>02-01</td>\n",
       "    </tr>\n",
       "    <tr>\n",
       "      <th>14</th>\n",
       "      <td>2021</td>\n",
       "      <td>12,276</td>\n",
       "      <td>03-01</td>\n",
       "    </tr>\n",
       "    <tr>\n",
       "      <th>15</th>\n",
       "      <td>2021</td>\n",
       "      <td>10,853</td>\n",
       "      <td>04-01</td>\n",
       "    </tr>\n",
       "    <tr>\n",
       "      <th>16</th>\n",
       "      <td>2021</td>\n",
       "      <td>10,035</td>\n",
       "      <td>05-01</td>\n",
       "    </tr>\n",
       "    <tr>\n",
       "      <th>17</th>\n",
       "      <td>2021</td>\n",
       "      <td>9,251</td>\n",
       "      <td>06-01</td>\n",
       "    </tr>\n",
       "    <tr>\n",
       "      <th>18</th>\n",
       "      <td>2021</td>\n",
       "      <td>51,055</td>\n",
       "      <td>07-01</td>\n",
       "    </tr>\n",
       "    <tr>\n",
       "      <th>19</th>\n",
       "      <td>2021</td>\n",
       "      <td>25,916</td>\n",
       "      <td>08-01</td>\n",
       "    </tr>\n",
       "    <tr>\n",
       "      <th>20</th>\n",
       "      <td>2021</td>\n",
       "      <td>17,720</td>\n",
       "      <td>09-01</td>\n",
       "    </tr>\n",
       "    <tr>\n",
       "      <th>21</th>\n",
       "      <td>2021</td>\n",
       "      <td>22,100</td>\n",
       "      <td>10-01</td>\n",
       "    </tr>\n",
       "    <tr>\n",
       "      <th>22</th>\n",
       "      <td>2021</td>\n",
       "      <td>20,700</td>\n",
       "      <td>11-01</td>\n",
       "    </tr>\n",
       "    <tr>\n",
       "      <th>23</th>\n",
       "      <td>2021</td>\n",
       "      <td></td>\n",
       "      <td>12-01</td>\n",
       "    </tr>\n",
       "  </tbody>\n",
       "</table>\n",
       "</div>"
      ],
      "text/plain": [
       "    year      value   date\n",
       "0   2019  2,689,339  01-01\n",
       "1   2019  2,604,322  02-01\n",
       "2   2019  2,760,136  03-01\n",
       "3   2019  2,926,685  04-01\n",
       "4   2019  2,773,091  05-01\n",
       "5   2019  2,880,041  06-01\n",
       "6   2019  2,991,189  07-01\n",
       "7   2019  2,520,134  08-01\n",
       "8   2019  2,272,883  09-01\n",
       "9   2019  2,496,568  10-01\n",
       "10  2019  2,441,274  11-01\n",
       "11  2019  2,526,387  12-01\n",
       "12  2021     46,522  01-01\n",
       "13  2021     7,355   02-01\n",
       "14  2021     12,276  03-01\n",
       "15  2021     10,853  04-01\n",
       "16  2021     10,035  05-01\n",
       "17  2021     9,251   06-01\n",
       "18  2021     51,055  07-01\n",
       "19  2021     25,916  08-01\n",
       "20  2021     17,720  09-01\n",
       "21  2021     22,100  10-01\n",
       "22  2021     20,700  11-01\n",
       "23  2021             12-01"
      ]
     },
     "metadata": {},
     "output_type": "display_data"
    }
   ],
   "source": [
    "import pandas as pd\n",
    "dff=pd.DataFrame([year,value,date]).T\n",
    "heads=['year','value','date']\n",
    "dff.columns=heads\n",
    "display(dff)"
   ]
  },
  {
   "cell_type": "code",
   "execution_count": 46,
   "id": "2c657d4d",
   "metadata": {},
   "outputs": [],
   "source": [
    "result.to_csv('C:/Users/paula/japan_travel_2021.csv', encoding='utf-8')"
   ]
  }
 ],
 "metadata": {
  "kernelspec": {
   "display_name": "Python 3 (ipykernel)",
   "language": "python",
   "name": "python3"
  },
  "language_info": {
   "codemirror_mode": {
    "name": "ipython",
    "version": 3
   },
   "file_extension": ".py",
   "mimetype": "text/x-python",
   "name": "python",
   "nbconvert_exporter": "python",
   "pygments_lexer": "ipython3",
   "version": "3.9.7"
  }
 },
 "nbformat": 4,
 "nbformat_minor": 5
}
