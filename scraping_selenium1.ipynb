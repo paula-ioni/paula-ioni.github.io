{
 "cells": [
  {
   "cell_type": "code",
   "execution_count": 65,
   "id": "444f3237",
   "metadata": {},
   "outputs": [],
   "source": [
    "#imports \n",
    "from selenium import webdriver\n",
    "from selenium.webdriver.common.keys import Keys\n",
    "from selenium.webdriver.support import expected_conditions as EC\n",
    "from selenium.webdriver.common.by import By\n",
    "from selenium.webdriver.support.wait import WebDriverWait\n",
    "import os\n",
    "import time\n",
    "import wget"
   ]
  },
  {
   "cell_type": "code",
   "execution_count": 66,
   "id": "4b2cada9",
   "metadata": {
    "scrolled": true
   },
   "outputs": [],
   "source": [
    "#specify the path to chromedriver.exe\n",
    "driver = webdriver.Chrome('C:/Users/paula/chromedriver.exe')\n",
    "\n",
    "#open the webpage\n",
    "driver.get(\"https://app.powerbi.com/view?r=eyJrIjoiMTVkYjVjMmEtOWI1Mi00N2Q0LWI1YzUtMzUyMmE3NGVlMTBjIiwidCI6IjRiMWJkNWRiLTY3ODItNDY2YS1hMWM1LTRlOTc1NjQ4ZjhlNSIsImMiOjl9\")\n",
    "# waiting for 5 seconds for the full page to load\n",
    "time.sleep(5)\n",
    "#clicking the first button \n",
    "tour=driver.find_element_by_xpath(\"(//div[@class='visual visual-actionButton allow-deferred-rendering'])[1]\").click()\n",
    "\n",
    "#then the second button and selecting 2020\n",
    "resultCountry=driver.find_element_by_xpath(\"(//div[@class='visual visual-actionButton allow-deferred-rendering'])[7]\").click()\n",
    "\n",
    "#SWITCH TO IFRAME\n",
    "aaframe=WebDriverWait(driver, 10).until(EC.frame_to_be_available_and_switch_to_it(\"visual-sandbox\"))\n",
    "yearSelect=driver.find_element_by_xpath(\"(//span[@class='slicerText'])[1]\").click()\n",
    "#SWITCHING BACK\n",
    "driver.switch_to.default_content()\n",
    "\n",
    "# clicking the dropdown button\n",
    "findCountry=driver.find_element_by_xpath(\"(//div[@class='slicer-dropdown-menu'])[2]\").click()\n",
    "\n"
   ]
  },
  {
   "cell_type": "code",
   "execution_count": 67,
   "id": "d01d9d71",
   "metadata": {},
   "outputs": [],
   "source": [
    "#finding Japan in the dropdown\n",
    "searchbox=driver.find_element_by_xpath(\"(//input[@class='searchInput'])[2]\")\n",
    "searchbox.clear\n",
    "searchbox.send_keys(\"japan\")\n"
   ]
  },
  {
   "cell_type": "code",
   "execution_count": 68,
   "id": "3491071a",
   "metadata": {},
   "outputs": [],
   "source": [
    "#accesing data for japan\n",
    "tick=driver.find_element_by_xpath(\"//div[@class='slicerCheckbox']\").click()"
   ]
  },
  {
   "cell_type": "code",
   "execution_count": 69,
   "id": "db59bfb9",
   "metadata": {},
   "outputs": [],
   "source": [
    "graph=driver.find_element_by_xpath(\"(//div[@class='visual visual-areaChart allow-deferred-rendering'])[1]\")\n"
   ]
  },
  {
   "cell_type": "code",
   "execution_count": 70,
   "id": "1082a648",
   "metadata": {},
   "outputs": [],
   "source": [
    "from selenium.webdriver import ActionChains\n",
    "#Right click on the graph so I can obtain the table\n",
    "actionChains = ActionChains(driver)\n",
    "actionChains.context_click(graph).perform()"
   ]
  },
  {
   "cell_type": "code",
   "execution_count": 71,
   "id": "f855a95b",
   "metadata": {},
   "outputs": [],
   "source": [
    "showTable=driver.find_element_by_xpath(\"(//div[@class='label'])[1]\").click()"
   ]
  },
  {
   "cell_type": "code",
   "execution_count": 72,
   "id": "7614cd24",
   "metadata": {},
   "outputs": [],
   "source": [
    "#Got the table, now I will work with BeautifulSoup as well\n",
    "from bs4 import BeautifulSoup"
   ]
  },
  {
   "cell_type": "code",
   "execution_count": 73,
   "id": "0ee561cf",
   "metadata": {},
   "outputs": [],
   "source": [
    "html = driver.page_source\n",
    "soup = BeautifulSoup(driver.page_source, 'html.parser')"
   ]
  },
  {
   "cell_type": "code",
   "execution_count": 74,
   "id": "1aaba274",
   "metadata": {},
   "outputs": [
    {
     "name": "stdout",
     "output_type": "stream",
     "text": [
      "Selected year Previous year 2019 arrivals \n"
     ]
    }
   ],
   "source": [
    "table=soup.find_all('div',attrs={\"class\":\"visual visual-pivotTable allow-deferred-rendering\"})\n",
    "headings= soup.find('div', attrs={\"class\":\"columnHeaders\"})\n",
    "print(headings.text)"
   ]
  },
  {
   "cell_type": "code",
   "execution_count": 75,
   "id": "9256dd99",
   "metadata": {},
   "outputs": [],
   "source": [
    "headingss= (soup.find('div', attrs={\"class\":\"columnHeaders\"})).find_next('div', attrs={\"class\": None})"
   ]
  },
  {
   "cell_type": "code",
   "execution_count": 76,
   "id": "3e4f71fa",
   "metadata": {},
   "outputs": [
    {
     "name": "stdout",
     "output_type": "stream",
     "text": [
      "['Selected year\\xa0', 'Previous year\\xa0', '2019 arrivals\\xa0']\n"
     ]
    }
   ],
   "source": [
    "headings_list=[i.text for i in headingss]\n",
    "print(headings_list)"
   ]
  },
  {
   "cell_type": "code",
   "execution_count": 77,
   "id": "b8e85489",
   "metadata": {},
   "outputs": [
    {
     "name": "stdout",
     "output_type": "stream",
     "text": [
      "shortmonth \n"
     ]
    }
   ],
   "source": [
    "allHeads=headings_list\n",
    "head1=soup.find('div',attrs={\"title\":\"shortmonth\"})\n",
    "print(head1.text)"
   ]
  },
  {
   "cell_type": "code",
   "execution_count": 78,
   "id": "39394298",
   "metadata": {},
   "outputs": [
    {
     "name": "stdout",
     "output_type": "stream",
     "text": [
      "['Selected year\\xa0', 'Previous year\\xa0', '2019 arrivals\\xa0', 'shortmonth\\xa0']\n"
     ]
    }
   ],
   "source": [
    "allHeads.append(head1.text)\n",
    "print(allHeads)"
   ]
  },
  {
   "cell_type": "code",
   "execution_count": 79,
   "id": "9fd3c0f0",
   "metadata": {},
   "outputs": [
    {
     "name": "stdout",
     "output_type": "stream",
     "text": [
      "['Selected year\\xa0', 'Previous year\\xa0', 'shortmonth\\xa0']\n"
     ]
    }
   ],
   "source": [
    "del (allHeads[2])\n",
    "print(allHeads)"
   ]
  },
  {
   "cell_type": "code",
   "execution_count": 80,
   "id": "0a1ee20e",
   "metadata": {},
   "outputs": [
    {
     "name": "stdout",
     "output_type": "stream",
     "text": [
      "['Jan', 'Feb', 'Mar', 'Apr', 'May', 'Jun', 'Jul', 'Aug', 'Sep', 'Oct', 'Nov', 'Dec']\n"
     ]
    }
   ],
   "source": [
    "#Getting months\n",
    "months_value= (soup.find('div', attrs={\"class\":\"rowHeaders\"})).find_next('div', attrs={\"class\": None})\n",
    "shortmonth_values=[i.text for i in months_value]\n",
    "print(shortmonth_values)"
   ]
  },
  {
   "cell_type": "code",
   "execution_count": 81,
   "id": "89f2bca6",
   "metadata": {},
   "outputs": [
    {
     "name": "stdout",
     "output_type": "stream",
     "text": [
      "['2661022', '1085147', '193658', '2917', '1663', '2565', '3782', '8658', '13684', '27386', '56673', '58673']\n"
     ]
    }
   ],
   "source": [
    "#Getting numbers\n",
    "\n",
    "a2020=driver.find_elements_by_xpath(\"(//div[@class='pivotTableCellWrap cell-interactive tablixAlignRight '])[position()<13]\")\n",
    "list2020= []\n",
    "for i in a2020:\n",
    "    list2020.append(str(i.text))\n",
    "print(list2020)\n",
    "    "
   ]
  },
  {
   "cell_type": "code",
   "execution_count": 82,
   "id": "33666dc8",
   "metadata": {},
   "outputs": [
    {
     "name": "stdout",
     "output_type": "stream",
     "text": [
      "['2689339', '2604322', '2760136', '2926685', '2773091', '2880041', '2991189', '2520134', '2272883', '2496568', '2441274', '2526387']\n"
     ]
    }
   ],
   "source": [
    "a2019=driver.find_elements_by_xpath(\"(//div[@class='pivotTableCellWrap cell-interactive tablixAlignRight '])[position()>12 and position()<=24]\")\n",
    "list2019= []\n",
    "for i in a2019:\n",
    "    list2019.append(str(i.text))\n",
    "print(list2019)"
   ]
  },
  {
   "cell_type": "code",
   "execution_count": 87,
   "id": "b10a8dad",
   "metadata": {},
   "outputs": [
    {
     "name": "stdout",
     "output_type": "stream",
     "text": [
      "   Selected year  Previous year  shortmonth \n",
      "0         2661022        2689339         Jan\n",
      "1         1085147        2604322         Feb\n",
      "2          193658        2760136         Mar\n",
      "3            2917        2926685         Apr\n",
      "4            1663        2773091         May\n",
      "5            2565        2880041         Jun\n",
      "6            3782        2991189         Jul\n",
      "7            8658        2520134         Aug\n",
      "8           13684        2272883         Sep\n",
      "9           27386        2496568         Oct\n",
      "10          56673        2441274         Nov\n",
      "11          58673        2526387         Dec\n"
     ]
    }
   ],
   "source": [
    "#Woking with pandas to get the table nicely formatted\n",
    "import pandas as pd\n",
    "df1=pd.DataFrame([list2020,list2019,shortmonth_values]).T\n",
    "df1.columns=allHeads\n",
    "print(df1)"
   ]
  },
  {
   "cell_type": "code",
   "execution_count": 89,
   "id": "7e562880",
   "metadata": {},
   "outputs": [],
   "source": [
    "#Finally saving everything\n",
    "df1.to_csv('C:/Users/paula/Japan_inbound_2020.csv', encoding='utf-8')"
   ]
  }
 ],
 "metadata": {
  "kernelspec": {
   "display_name": "Python 3 (ipykernel)",
   "language": "python",
   "name": "python3"
  },
  "language_info": {
   "codemirror_mode": {
    "name": "ipython",
    "version": 3
   },
   "file_extension": ".py",
   "mimetype": "text/x-python",
   "name": "python",
   "nbconvert_exporter": "python",
   "pygments_lexer": "ipython3",
   "version": "3.9.7"
  }
 },
 "nbformat": 4,
 "nbformat_minor": 5
}
