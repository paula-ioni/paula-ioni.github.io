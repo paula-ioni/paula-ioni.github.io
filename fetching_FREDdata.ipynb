{
  "nbformat": 4,
  "nbformat_minor": 0,
  "metadata": {
    "colab": {
      "name": "Untitled6.ipynb",
      "provenance": [],
      "collapsed_sections": [],
      "authorship_tag": "ABX9TyNe9rB45v/mCAhNz/tgZ+hK",
      "include_colab_link": true
    },
    "kernelspec": {
      "name": "python3",
      "display_name": "Python 3"
    },
    "language_info": {
      "name": "python"
    }
  },
  "cells": [
    {
      "cell_type": "markdown",
      "metadata": {
        "id": "view-in-github",
        "colab_type": "text"
      },
      "source": [
        "<a href=\"https://colab.research.google.com/github/paula-ioni/paula-ioni.github.io/blob/main/fetching_FREDdata.ipynb\" target=\"_parent\"><img src=\"https://colab.research.google.com/assets/colab-badge.svg\" alt=\"Open In Colab\"/></a>"
      ]
    },
    {
      "cell_type": "code",
      "execution_count": 3,
      "metadata": {
        "colab": {
          "base_uri": "https://localhost:8080/"
        },
        "id": "81t42x6fZPXT",
        "outputId": "2ad309e1-d003-45c6-b7d0-876ab20bf3a6"
      },
      "outputs": [
        {
          "output_type": "stream",
          "name": "stdout",
          "text": [
            "https://api.stlouisfed.org/fred/series/observations?series_id=NYGDPPCAPKDJPN&api_key=f58a46bc624beb6ac65ab32a1e4a800d&file_type=json\n",
            "https://api.stlouisfed.org/fred/series/observations?series_id=MSPUS&api_key=f58a46bc624beb6ac65ab32a1e4a800d&file_type=json\n",
            "https://api.stlouisfed.org/fred/series/observations?series_id=SLUEM1524ZSROU&api_key=f58a46bc624beb6ac65ab32a1e4a800d&file_type=json\n",
            "https://api.stlouisfed.org/fred/series/observations?series_id=LNS14000006&api_key=f58a46bc624beb6ac65ab32a1e4a800d&file_type=json\n"
          ]
        }
      ],
      "source": [
        "# Getting the links from the API\n",
        "\n",
        "url_base=\"https://api.stlouisfed.org/fred/series/observations?series_id={}&api_key=f58a46bc624beb6ac65ab32a1e4a800d&file_type=json\"\n",
        "fred_code=['NYGDPPCAPKDJPN','MSPUS','SLUEM1524ZSROU','LNS14000006']\n",
        "for i in fred_code:\n",
        "  URLs=url_base.format(i)\n",
        "  print(URLs)"
      ]
    },
    {
      "cell_type": "code",
      "source": [
        "# Importing the necessary library\n",
        "import requests\n",
        "import os\n",
        "import json\n",
        "from google.colab import files"
      ],
      "metadata": {
        "id": "k9cvsThUZwwT"
      },
      "execution_count": 2,
      "outputs": []
    },
    {
      "cell_type": "code",
      "source": [
        "#Setting the file names\n",
        "file_base= \"data-FRED_{}.json\" \n",
        "\n",
        "#Loop\n",
        "for i in fred_code:\n",
        "  data = requests.get(URLs).json()\n",
        "  print(data)\n",
        " "
      ],
      "metadata": {
        "id": "-ahmGjhsbosU"
      },
      "execution_count": null,
      "outputs": []
    },
    {
      "cell_type": "code",
      "source": [
        "#Downloading\n",
        "for i in fred_code:\n",
        "   file_name=file_base.format(i)\n",
        "   print(file_name)\n",
        "   with open(file_name, 'w', encoding='utf-8') as f:\n",
        "     json.dump(data, f, ensure_ascii=False, indent=4)\n",
        "files.download(file_name)"
      ],
      "metadata": {
        "colab": {
          "base_uri": "https://localhost:8080/",
          "height": 86
        },
        "id": "POTYxfR4fNg4",
        "outputId": "90ab7be0-ecfb-4c8d-c9f2-3c5a0f1be7db"
      },
      "execution_count": 12,
      "outputs": [
        {
          "output_type": "stream",
          "name": "stdout",
          "text": [
            "data-FRED_NYGDPPCAPKDJPN.json\n",
            "data-FRED_MSPUS.json\n",
            "data-FRED_SLUEM1524ZSROU.json\n",
            "data-FRED_LNS14000006.json\n"
          ]
        },
        {
          "output_type": "display_data",
          "data": {
            "application/javascript": [
              "\n",
              "    async function download(id, filename, size) {\n",
              "      if (!google.colab.kernel.accessAllowed) {\n",
              "        return;\n",
              "      }\n",
              "      const div = document.createElement('div');\n",
              "      const label = document.createElement('label');\n",
              "      label.textContent = `Downloading \"${filename}\": `;\n",
              "      div.appendChild(label);\n",
              "      const progress = document.createElement('progress');\n",
              "      progress.max = size;\n",
              "      div.appendChild(progress);\n",
              "      document.body.appendChild(div);\n",
              "\n",
              "      const buffers = [];\n",
              "      let downloaded = 0;\n",
              "\n",
              "      const channel = await google.colab.kernel.comms.open(id);\n",
              "      // Send a message to notify the kernel that we're ready.\n",
              "      channel.send({})\n",
              "\n",
              "      for await (const message of channel.messages) {\n",
              "        // Send a message to notify the kernel that we're ready.\n",
              "        channel.send({})\n",
              "        if (message.buffers) {\n",
              "          for (const buffer of message.buffers) {\n",
              "            buffers.push(buffer);\n",
              "            downloaded += buffer.byteLength;\n",
              "            progress.value = downloaded;\n",
              "          }\n",
              "        }\n",
              "      }\n",
              "      const blob = new Blob(buffers, {type: 'application/binary'});\n",
              "      const a = document.createElement('a');\n",
              "      a.href = window.URL.createObjectURL(blob);\n",
              "      a.download = filename;\n",
              "      div.appendChild(a);\n",
              "      a.click();\n",
              "      div.remove();\n",
              "    }\n",
              "  "
            ],
            "text/plain": [
              "<IPython.core.display.Javascript object>"
            ]
          },
          "metadata": {}
        },
        {
          "output_type": "display_data",
          "data": {
            "application/javascript": [
              "download(\"download_98c3072f-38b9-4daa-9c77-bc7b12d894f2\", \"data-FRED_LNS14000006.json\", 101402)"
            ],
            "text/plain": [
              "<IPython.core.display.Javascript object>"
            ]
          },
          "metadata": {}
        }
      ]
    }
  ]
}