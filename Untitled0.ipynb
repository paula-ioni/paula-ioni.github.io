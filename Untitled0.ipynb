{
  "nbformat": 4,
  "nbformat_minor": 0,
  "metadata": {
    "colab": {
      "name": "Untitled0.ipynb",
      "provenance": [],
      "collapsed_sections": []
    },
    "kernelspec": {
      "name": "python3",
      "display_name": "Python 3"
    },
    "language_info": {
      "name": "python"
    }
  },
  "cells": [
    {
      "cell_type": "code",
      "metadata": {
        "id": "KtQ-0Sf_abGq"
      },
      "source": [
        "myArray=[1,2,3,4,5,6]"
      ],
      "execution_count": 1,
      "outputs": []
    },
    {
      "cell_type": "code",
      "metadata": {
        "colab": {
          "base_uri": "https://localhost:8080/"
        },
        "id": "ZgbP2EKWatw-",
        "outputId": "6ed46044-58a8-47fc-e195-1ef7de6c35cb"
      },
      "source": [
        "myArray[0]"
      ],
      "execution_count": 2,
      "outputs": [
        {
          "output_type": "execute_result",
          "data": {
            "text/plain": [
              "1"
            ]
          },
          "metadata": {},
          "execution_count": 2
        }
      ]
    },
    {
      "cell_type": "code",
      "metadata": {
        "id": "n1C9zXapa3Fa"
      },
      "source": [
        "import numpy as np"
      ],
      "execution_count": 3,
      "outputs": []
    },
    {
      "cell_type": "code",
      "metadata": {
        "id": "bleXiBaVa10Q"
      },
      "source": [
        "myArray_two = np.arange(30)"
      ],
      "execution_count": 8,
      "outputs": []
    },
    {
      "cell_type": "code",
      "metadata": {
        "id": "rW4TRCxxbswb"
      },
      "source": [
        "myArray_ha=np.arange(23)"
      ],
      "execution_count": 9,
      "outputs": []
    },
    {
      "cell_type": "code",
      "metadata": {
        "id": "yWd4ydQVcBHa"
      },
      "source": [
        "def my_function(x,y):\n",
        "  return x*y\n"
      ],
      "execution_count": 13,
      "outputs": []
    },
    {
      "cell_type": "code",
      "metadata": {
        "colab": {
          "base_uri": "https://localhost:8080/"
        },
        "id": "qAV2QSuucWvL",
        "outputId": "943c6f95-9dbb-4e84-ecde-ed965c4e1047"
      },
      "source": [
        "my_function(3,5)"
      ],
      "execution_count": 14,
      "outputs": [
        {
          "output_type": "execute_result",
          "data": {
            "text/plain": [
              "15"
            ]
          },
          "metadata": {},
          "execution_count": 14
        }
      ]
    },
    {
      "cell_type": "code",
      "metadata": {
        "id": "oZ5mcIiuckdX"
      },
      "source": [
        "def lovely(x,y):\n",
        "  return (x/y)*100"
      ],
      "execution_count": 15,
      "outputs": []
    },
    {
      "cell_type": "code",
      "metadata": {
        "colab": {
          "base_uri": "https://localhost:8080/"
        },
        "id": "NF31Yj0kc1MJ",
        "outputId": "c3045780-7c8e-4e55-eb26-ddeee8b63ebd"
      },
      "source": [
        "lovely(36,30)"
      ],
      "execution_count": 16,
      "outputs": [
        {
          "output_type": "execute_result",
          "data": {
            "text/plain": [
              "120.0"
            ]
          },
          "metadata": {},
          "execution_count": 16
        }
      ]
    },
    {
      "cell_type": "code",
      "metadata": {
        "id": "wTPUAVC2dRte"
      },
      "source": [
        "def lovely1(a,b,c,d):\n",
        "  return (b-a)/(d-c)"
      ],
      "execution_count": 17,
      "outputs": []
    },
    {
      "cell_type": "code",
      "metadata": {
        "colab": {
          "base_uri": "https://localhost:8080/"
        },
        "id": "ZIYIk0_vdcYF",
        "outputId": "6a25b535-219b-43b0-9353-69fe6bcbc95f"
      },
      "source": [
        "lovely1(34,30,3,7)"
      ],
      "execution_count": 18,
      "outputs": [
        {
          "output_type": "execute_result",
          "data": {
            "text/plain": [
              "-1.0"
            ]
          },
          "metadata": {},
          "execution_count": 18
        }
      ]
    },
    {
      "cell_type": "code",
      "metadata": {
        "colab": {
          "base_uri": "https://localhost:8080/",
          "height": 130
        },
        "id": "H6Hk1xyNdnyO",
        "outputId": "35499a53-122d-4e4f-ddd3-62a53752fc2e"
      },
      "source": [
        "num = 5\n",
        "factorial = 1\n",
        "if num < 0:\n",
        "  print(\"not possible..sorry\")\n",
        "  else:\n",
        "   for i in range(1, num +1):\n",
        "        factorial = factorial*i\n",
        "        print(\"The factorial of\",num,\"is\", factorial)"
      ],
      "execution_count": 24,
      "outputs": [
        {
          "output_type": "error",
          "ename": "SyntaxError",
          "evalue": "ignored",
          "traceback": [
            "\u001b[0;36m  File \u001b[0;32m\"<ipython-input-24-48dd55f24c71>\"\u001b[0;36m, line \u001b[0;32m5\u001b[0m\n\u001b[0;31m    else:\u001b[0m\n\u001b[0m       ^\u001b[0m\n\u001b[0;31mSyntaxError\u001b[0m\u001b[0;31m:\u001b[0m invalid syntax\n"
          ]
        }
      ]
    },
    {
      "cell_type": "markdown",
      "metadata": {
        "id": "6zEfQgjPds0w"
      },
      "source": [
        "lololololooooooool"
      ]
    }
  ]
}